{
 "cells": [
  {
   "cell_type": "markdown",
   "id": "05dcb808",
   "metadata": {},
   "source": [
    "# Qutrit Circuit Transpilation Example \n",
    "### Measurement Random Compiling\n",
    "This notebook demonstrates how to use randomized compiling and circuit decomposition for a simple qutrit (3-level quantum system) measurement circuit, and then transpile the resulting circuits into a native gate set using qcal and cirq.\n",
    "\n",
    "You can install qcal from https://github.com/akelhashim/qcal"
   ]
  },
  {
   "cell_type": "code",
   "execution_count": null,
   "id": "a4a3e8b9",
   "metadata": {},
   "outputs": [],
   "source": [
    "from qdit.compiling import CircuitDecomposer, RandomCompiling\n",
    "from qcal.interface.superstaq.transpiler import CirqTranspiler, transpilation_error\n",
    "from qcal.gate.single_qubit import Rz, X90, Id\n",
    "from collections import defaultdict\n",
    "import cirq"
   ]
  },
  {
   "cell_type": "code",
   "execution_count": 2,
   "id": "2c3ea5ad",
   "metadata": {},
   "outputs": [],
   "source": [
    "# Measurement Circuit:\n",
    "# A simple measurement circuit is created for a single qutrit (dimension 3) using Cirq.\n",
    "measurement_circuit = cirq.Circuit()\n",
    "qutrit = cirq.LineQid(0, dimension = 3)\n",
    "measurement_circuit.append(cirq.measure(qutrit, key=\"x\"))\n",
    "\n",
    "# Randomized Compiling Loop:\n",
    "# Specified a number of cycles.\n",
    "cycles = 100\n",
    "circuits = []\n",
    "corrections = []\n",
    "\n",
    "for _ in range(cycles):\n",
    "    # The measurement circuit is compiled with randomization (measurement_twirl=True).\n",
    "    compiler = RandomCompiling(measurement_circuit, d=3, measurement_twirl=True)\n",
    "    compiled_circuit = compiler.compile()\n",
    "\n",
    "    # The compiled circuit is decomposed into a native gate set (RzRx).\n",
    "    decomposer = CircuitDecomposer(compiled_circuit)\n",
    "    decomposed_circuit = decomposer.decompose_circuit(num_qudits=1, dim=3, native_gates='RzRx')\n",
    "    # The measurement operation is appended again to the decomposed circuit.\n",
    "    decomposed_circuit.append(cirq.measure(qutrit, key=\"x\"))\n",
    "\n",
    "    # Measurement corrections (needed due to randomization) are collected.\n",
    "    corrections.append(compiler.get_measurement_corrections())\n",
    "    # Both the decomposed circuit and its corrections are stored.\n",
    "    circuits.append(decomposed_circuit)\n",
    "\n",
    "# The circuits and their corresponding corrections are zipped together for further analysis or execution.\n",
    "post_procesing = zip(circuits, corrections)"
   ]
  },
  {
   "cell_type": "code",
   "execution_count": 3,
   "id": "9025c6ec",
   "metadata": {},
   "outputs": [],
   "source": [
    "# A gate_mapper dictionary maps gate names to their corresponding native gate implementations.\n",
    "gate_mapper = defaultdict(lambda: transpilation_error,\n",
    "                {'Id': Id,\n",
    "                 'Rz': Rz,\n",
    "                 'X90': X90,\n",
    "                }\n",
    "            )\n",
    "\n",
    "# A CirqTranspiler is initialized with this mapping.\n",
    "transpiler = CirqTranspiler(gate_mapper)\n",
    "\n",
    "# All decomposed circuits are transpiled into the target gate set.\n",
    "transpiled_circuits = transpiler.transpile(circuits=circuits)"
   ]
  },
  {
   "cell_type": "code",
   "execution_count": 4,
   "id": "374514bf",
   "metadata": {},
   "outputs": [
    {
     "name": "stdout",
     "output_type": "stream",
     "text": [
      "                                             circuit\n",
      "0  (Cycle X90:(0,), Cycle X90:(0,), Cycle X90:(0,...\n",
      "1    (Cycle Rz:(0,), Cycle Rz:(0,), Cycle Meas:(0,))\n",
      "2  (Cycle Rz:(0,), Cycle X90:(0,), Cycle X90:(0,)...\n",
      "3  (Cycle X90:(0,), Cycle X90:(0,), Cycle X90:(0,...\n",
      "4  (Cycle Rz:(0,), Cycle Rz:(0,), Cycle X90:(0,),...\n",
      "5  (Cycle Rz:(0,), Cycle X90:(0,), Cycle X90:(0,)...\n",
      "6  (Cycle Rz:(0,), Cycle X90:(0,), Cycle X90:(0,)...\n",
      "7  (Cycle X90:(0,), Cycle X90:(0,), Cycle X90:(0,...\n",
      "8  (Cycle Rz:(0,), Cycle X90:(0,), Cycle X90:(0,)...\n",
      "9  (Cycle Rz:(0,), Cycle Rz:(0,), Cycle X90:(0,),...\n"
     ]
    }
   ],
   "source": [
    "# Some transpiled circuits are printed for review.\n",
    "print(transpiled_circuits[0:10])"
   ]
  }
 ],
 "metadata": {
  "kernelspec": {
   "display_name": "Python 3",
   "language": "python",
   "name": "python3"
  },
  "language_info": {
   "codemirror_mode": {
    "name": "ipython",
    "version": 3
   },
   "file_extension": ".py",
   "mimetype": "text/x-python",
   "name": "python",
   "nbconvert_exporter": "python",
   "pygments_lexer": "ipython3",
   "version": "3.11.0"
  }
 },
 "nbformat": 4,
 "nbformat_minor": 5
}
