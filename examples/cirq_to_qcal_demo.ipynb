{
 "cells": [
  {
   "cell_type": "code",
   "execution_count": 1,
   "id": "a4a3e8b9",
   "metadata": {},
   "outputs": [],
   "source": [
    "from qnlib.compiling import CircuitDecomposer, RandomCompiling\n",
    "from qcal.interface.superstaq.transpiler import CirqTranspiler, transpilation_error\n",
    "from qcal.gate.single_qubit import Rz, X90, Id\n",
    "from collections import defaultdict\n",
    "import cirq"
   ]
  },
  {
   "cell_type": "code",
   "execution_count": 2,
   "id": "2c3ea5ad",
   "metadata": {},
   "outputs": [],
   "source": [
    "measurement_circuit = cirq.Circuit()\n",
    "qutrit = cirq.LineQid(0, dimension = 3)\n",
    "measurement_circuit.append(cirq.measure(qutrit, key=\"x\"))\n",
    "\n",
    "cycles = 100\n",
    "circuits = []\n",
    "corrections = []\n",
    "\n",
    "for _ in range(cycles):\n",
    "    # Initialize with measurement_twirl=True\n",
    "    compiler = RandomCompiling(measurement_circuit, d=3, measurement_twirl=True)\n",
    "    compiled_circuit = compiler.compile()\n",
    "\n",
    "    decomposer = CircuitDecomposer(compiled_circuit)\n",
    "    decomposed_circuit = decomposer.decompose_circuit(num_qudits=1, dim=3, native_gates='RzRx')\n",
    "    decomposed_circuit.append(cirq.measure(qutrit, key=\"x\"))\n",
    "\n",
    "    # After compiling the circuit, get the corrections:\n",
    "    corrections.append(compiler.get_measurement_corrections())\n",
    "    circuits.append(decomposed_circuit)\n",
    "\n",
    "post_procesing = zip(circuits, corrections)"
   ]
  },
  {
   "cell_type": "code",
   "execution_count": 3,
   "id": "3cd513cb",
   "metadata": {},
   "outputs": [
    {
     "name": "stdout",
     "output_type": "stream",
     "text": [
      "0 (d=3): ───Rz───Rz───M('x')───\n",
      "Rz\n",
      "Rz\n",
      "MeasurementGate\n"
     ]
    }
   ],
   "source": [
    "#I.e.\n",
    "print(circuits[0])\n",
    "\n",
    "for moment in circuits[0]:\n",
    "    for op in moment:\n",
    "        print(type(op.gate).__name__)"
   ]
  },
  {
   "cell_type": "code",
   "execution_count": 4,
   "id": "9025c6ec",
   "metadata": {},
   "outputs": [],
   "source": [
    "gate_mapper = defaultdict(lambda: transpilation_error,\n",
    "                {'Id': Id,\n",
    "                 'Rz': Rz,\n",
    "                 'X90': X90,\n",
    "                }\n",
    "            )"
   ]
  },
  {
   "cell_type": "code",
   "execution_count": 5,
   "id": "f3a1ab90",
   "metadata": {},
   "outputs": [],
   "source": [
    "transpiler = CirqTranspiler(gate_mapper)\n",
    "transpiled_circuits = transpiler.transpile(circuits=circuits)"
   ]
  },
  {
   "cell_type": "code",
   "execution_count": 6,
   "id": "374514bf",
   "metadata": {},
   "outputs": [
    {
     "name": "stdout",
     "output_type": "stream",
     "text": [
      "                                              circuit\n",
      "0     (Cycle Rz:(0,), Cycle Rz:(0,), Cycle Meas:(0,))\n",
      "1     (Cycle Rz:(0,), Cycle Rz:(0,), Cycle Meas:(0,))\n",
      "2   (Cycle X90:(0,), Cycle X90:(0,), Cycle X90:(0,...\n",
      "3   (Cycle Rz:(0,), Cycle X90:(0,), Cycle X90:(0,)...\n",
      "4   (Cycle Rz:(0,), Cycle X90:(0,), Cycle X90:(0,)...\n",
      "5   (Cycle Rz:(0,), Cycle Rz:(0,), Cycle X90:(0,),...\n",
      "6                     (Cycle I:(0,), Cycle Meas:(0,))\n",
      "7   (Cycle Rz:(0,), Cycle Rz:(0,), Cycle X90:(0,),...\n",
      "8   (Cycle Rz:(0,), Cycle X90:(0,), Cycle X90:(0,)...\n",
      "9   (Cycle X90:(0,), Cycle X90:(0,), Cycle X90:(0,...\n",
      "10  (Cycle Rz:(0,), Cycle X90:(0,), Cycle X90:(0,)...\n",
      "11  (Cycle Rz:(0,), Cycle Rz:(0,), Cycle X90:(0,),...\n",
      "12  (Cycle Rz:(0,), Cycle Rz:(0,), Cycle X90:(0,),...\n",
      "13    (Cycle Rz:(0,), Cycle Rz:(0,), Cycle Meas:(0,))\n",
      "14    (Cycle Rz:(0,), Cycle Rz:(0,), Cycle Meas:(0,))\n",
      "15  (Cycle Rz:(0,), Cycle X90:(0,), Cycle X90:(0,)...\n",
      "16  (Cycle X90:(0,), Cycle X90:(0,), Cycle X90:(0,...\n",
      "17    (Cycle Rz:(0,), Cycle Rz:(0,), Cycle Meas:(0,))\n",
      "18  (Cycle Rz:(0,), Cycle X90:(0,), Cycle X90:(0,)...\n",
      "19  (Cycle X90:(0,), Cycle X90:(0,), Cycle X90:(0,...\n",
      "20  (Cycle Rz:(0,), Cycle X90:(0,), Cycle X90:(0,)...\n",
      "21  (Cycle Rz:(0,), Cycle X90:(0,), Cycle X90:(0,)...\n",
      "22  (Cycle Rz:(0,), Cycle X90:(0,), Cycle X90:(0,)...\n",
      "23  (Cycle Rz:(0,), Cycle X90:(0,), Cycle X90:(0,)...\n",
      "24    (Cycle Rz:(0,), Cycle Rz:(0,), Cycle Meas:(0,))\n"
     ]
    }
   ],
   "source": [
    "print(transpiled_circuits[0:25])"
   ]
  }
 ],
 "metadata": {
  "kernelspec": {
   "display_name": "Python 3",
   "language": "python",
   "name": "python3"
  },
  "language_info": {
   "codemirror_mode": {
    "name": "ipython",
    "version": 3
   },
   "file_extension": ".py",
   "mimetype": "text/x-python",
   "name": "python",
   "nbconvert_exporter": "python",
   "pygments_lexer": "ipython3",
   "version": "3.11.0"
  }
 },
 "nbformat": 4,
 "nbformat_minor": 5
}
