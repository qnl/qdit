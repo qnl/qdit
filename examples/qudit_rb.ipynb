{
 "cells": [
  {
   "cell_type": "markdown",
   "metadata": {},
   "source": [
    "# Qudit Randomized Benchmarking Demo\n",
    "Example usage of `QuditBenchmarking` class"
   ]
  },
  {
   "cell_type": "code",
   "execution_count": 11,
   "metadata": {},
   "outputs": [],
   "source": [
    "from qnlib.benchmarking import QuditBenchmarking\n",
    "\n",
    "rb = QuditBenchmarking(\n",
    "    num_qudits=2,\n",
    "    dimension=2\n",
    ")\n",
    "\n",
    "depths=[5,10,15]\n",
    "num_circuits = 10\n",
    "circuits = rb.generate_benchmark_circuits(depths=depths, num_circuits=num_circuits, expanded=True)"
   ]
  },
  {
   "cell_type": "markdown",
   "metadata": {},
   "source": [
    "We can store our circuits directly in a JSON file using the build in `to_json` function:"
   ]
  },
  {
   "cell_type": "code",
   "execution_count": null,
   "metadata": {},
   "outputs": [],
   "source": [
    "rb.to_json(circuits, 'circuits.json')"
   ]
  },
  {
   "cell_type": "markdown",
   "metadata": {},
   "source": [
    "Printing the circuits we see they are compressed into arbitrary Clifford operators:"
   ]
  },
  {
   "cell_type": "code",
   "execution_count": null,
   "metadata": {},
   "outputs": [],
   "source": [
    "for d in range(len(depths)):\n",
    "    for circ_num in range(num_circuits):\n",
    "        print(circuits[d][circ_num])"
   ]
  },
  {
   "cell_type": "markdown",
   "metadata": {},
   "source": [
    "We can alternatively produce expanded circuits for debugging or visualization by passing `expanded=True`:"
   ]
  },
  {
   "cell_type": "code",
   "execution_count": null,
   "metadata": {},
   "outputs": [],
   "source": [
    "circuits = rb.generate_benchmark_circuits(depths=depths, num_circuits=num_circuits, \n",
    "                                          expanded=True)\n",
    "for d in range(len(depths)):\n",
    "    for circ_num in range(num_circuits):\n",
    "        print(circuits[d][circ_num])"
   ]
  },
  {
   "cell_type": "markdown",
   "metadata": {},
   "source": [
    "## Simulations (take a while)\n",
    "Noisy simulations are inefficient! Longer circuits and more samples will take significantly longer to run."
   ]
  },
  {
   "cell_type": "code",
   "execution_count": null,
   "metadata": {},
   "outputs": [],
   "source": [
    "### Simulating Noisy Random Qutrit Pauli Circuits ###\n",
    "\n",
    "import qnlib.benchmarking.benchmarking as qrb\n",
    "\n",
    "# Ex. Gate depth 5-15; noise levels 0.01, 0.05; 5 circuit samples; 100 shots\n",
    "num_clifford_range = range(5, 20, 5)\n",
    "\n",
    "qrb.test_noisy_qutrit_benchmarking(num_clifford_range=num_clifford_range, \n",
    "                                   noise_levels=[0.01, 0.05], \n",
    "                                   num_circuits=5, \n",
    "                                   repetitions=100)"
   ]
  }
 ],
 "metadata": {
  "kernelspec": {
   "display_name": "Python 3",
   "language": "python",
   "name": "python3"
  },
  "language_info": {
   "codemirror_mode": {
    "name": "ipython",
    "version": 3
   },
   "file_extension": ".py",
   "mimetype": "text/x-python",
   "name": "python",
   "nbconvert_exporter": "python",
   "pygments_lexer": "ipython3",
   "version": "3.10.5"
  }
 },
 "nbformat": 4,
 "nbformat_minor": 2
}
