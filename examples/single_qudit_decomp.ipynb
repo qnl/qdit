{
 "cells": [
  {
   "cell_type": "markdown",
   "metadata": {},
   "source": [
    "# Single Qudit Gate Decomposition\n",
    "We can decompose unitary operators in SU(d) to SU(2) gates for hardware implementation. Consider a random Clifford circuit:"
   ]
  },
  {
   "cell_type": "code",
   "execution_count": null,
   "metadata": {},
   "outputs": [
    {
     "name": "stdout",
     "output_type": "stream",
     "text": [
      "0 (d=3): ───────S───S───CXc───CXc───F───S───F───M2───Y───────────\n",
      "                        │     │\n",
      "1 (d=3): ───────S───S───CXt───CXt───F───S───F───S────S───F───Z───\n"
     ]
    }
   ],
   "source": [
    "from qdit import sample_clifford\n",
    "import numpy as np\n",
    "n=2\n",
    "d=3\n",
    "\n",
    "rand_circ = sample_clifford(num_qudits=n, dimension=d)\n",
    "print(rand_circ)"
   ]
  },
  {
   "cell_type": "markdown",
   "metadata": {},
   "source": [
    "We can think of this circuit in terms of easy and hard moments, where the easy moments are local (seperable) gates rather than entengling gates like CZ or CX. Using the decomposer, we can reproduce the circuit in terms of a specified native gate set, like 'RxRzCx'. To decompose a single qudit circuit we only need two rotations, while we need to specify a 2 a native qudit gate to handle multi-qudit circuits."
   ]
  },
  {
   "cell_type": "code",
   "execution_count": null,
   "metadata": {},
   "outputs": [
    {
     "name": "stdout",
     "output_type": "stream",
     "text": [
      "0 (d=3): ───Rz(-0.89π)23───Rz(-0.89π)23───Rz(0.22π)12───Rz(0.22π)12───────────────────────────────────────────────────────────────────────────────────────────────────────────────────────────────────────────────────────────────────────────────────────────────────────────────────────────────────────────────────────────────────CZc────────────────────────────────────────────────────────────────────────────────────────────────────────────────────────────────────────────────────────────────────────────────────────────────────────────────────────────────────────────────────────────────────────────────────────────────────────────────────────────────────────────────────────────────────────────────────────────────────────────────────────────────────────────────────────────────────────────────────────────────────────────────────────────CZc────────────────────────────────────────────────────────────────────────────────────────────────────────────────────────────────────────────────────────────────────────────────────────────────────────────────────────────────────────────────────────────────Rz(0.33π)23────X9023───X9023───X9023───Rz(0.50π)23───X9023───Rz(2.00π)23───Rz(0.22π)23────Rz(-0.06π)12───X9012───X9012───X9012───Rz(0.61π)12───X9012───Rz(2.00π)12───Rz(-0.06π)12───Rz(-0.78π)23───X9023───X9023───X9023───Rz(0.50π)23───X9023───Rz(2.00π)23───Rz(-0.67π)23───\n",
      "                                                                                                                                                                                                                                                                                                                                      │                                                                                                                                                                                                                                                                                                                                                                                                                                                                                                                              │\n",
      "1 (d=3): ───Rz(-0.89π)23───Rz(-0.89π)23───Rz(0.22π)12───Rz(0.22π)12───────Rz(-1.00π)23───X9023───X9023───X9023───Rz(0.50π)23───X9023───Rz(2.00π)23───Rz(-0.67π)23───Rz(0.17π)12───X9012───X9012───X9012───Rz(0.61π)12───X9012───Rz(2.00π)12───Rz(0.17π)12───Rz(0.33π)23───X9023───X9023───X9023───Rz(0.50π)23───X9023───Rz(2.00π)23───CZt───Rz(1.00π)23───X9023───X9023───X9023───Rz(0.50π)23───X9023───Rz(2.00π)23───Rz(0.67π)23───Rz(-0.17π)12───X9012───X9012───X9012───Rz(0.61π)12───X9012───Rz(2.00π)12───Rz(-0.17π)12───Rz(-0.33π)23───X9023───X9023───X9023───Rz(0.50π)23───X9023───Rz(2.00π)23───Rz(-1.00π)23───X9023───X9023───X9023───Rz(0.50π)23───X9023───Rz(2.00π)23───Rz(-0.67π)23───Rz(0.17π)12───X9012───X9012───X9012───Rz(0.61π)12───X9012───Rz(2.00π)12───Rz(0.17π)12───Rz(0.33π)23───X9023───X9023───X9023───Rz(0.50π)23───X9023───Rz(2.00π)23───CZt───Rz(1.00π)23───X9023───X9023───X9023───Rz(0.50π)23───X9023───Rz(2.00π)23───Rz(0.67π)23───Rz(-0.17π)12───X9012───X9012───X9012───Rz(0.61π)12───X9012───Rz(2.00π)12───Rz(-0.17π)12───Rz(-0.33π)23───X9023───X9023───X9023───Rz(0.50π)23───X9023───Rz(2.00π)23───Rz(-1.00π)23───X9023───X9023───X9023───Rz(0.50π)23───X9023───Rz(2.00π)23───Rz(-0.67π)23───Rz(0.83π)12────X9012───X9012───X9012───Rz(0.61π)12───X9012───Rz(2.00π)12───Rz(0.83π)12────Rz(1.00π)23────X9023───X9023───X9023───Rz(0.50π)23───X9023───Rz(2.00π)23───Rz(-0.67π)23───\n",
      "Are the circuits equivalent up to global phase? True\n",
      "Phase: exp(i-0.389π)\n"
     ]
    }
   ],
   "source": [
    "from qdit.compiling import Compiler\n",
    "\n",
    "compiler = Compiler(rand_circ, d=d, native=True, native_gates='RzRxCZ')\n",
    "decomposed_circuit = compiler.compile()\n",
    "print(decomposed_circuit)\n",
    "\n",
    "# Check decomposed circuit equals original circuit\n",
    "prod = rand_circ.unitary() @ np.matrix(decomposed_circuit.unitary()).H\n",
    "phase = prod[0, 0] / abs(prod[0, 0])  # global phase\n",
    "identity_check = np.allclose(prod / phase, np.eye(d**n), atol=1e-4)\n",
    "print(\"Are the circuits equivalent up to global phase?\", identity_check)\n",
    "if identity_check:\n",
    "    angle = np.angle(phase)\n",
    "    print(f\"Phase: exp(i{np.round(angle/np.pi,3)}π)\")"
   ]
  }
 ],
 "metadata": {
  "kernelspec": {
   "display_name": "Python 3",
   "language": "python",
   "name": "python3"
  },
  "language_info": {
   "codemirror_mode": {
    "name": "ipython",
    "version": 3
   },
   "file_extension": ".py",
   "mimetype": "text/x-python",
   "name": "python",
   "nbconvert_exporter": "python",
   "pygments_lexer": "ipython3",
   "version": "3.10.5"
  }
 },
 "nbformat": 4,
 "nbformat_minor": 2
}
