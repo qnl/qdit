{
 "cells": [
  {
   "cell_type": "markdown",
   "metadata": {},
   "source": [
    "# Introduction to Qutrits using Google Cirq\n",
    "\n",
    "This notebook demonstrates how to work with qutrits (3-level quantum systems) using Google Cirq and the qnlib library. We'll explore Clifford gates for qutrits and see how to create, manipulate, and measure qutrit states.\n",
    "\n",
    "## Setup\n",
    "First, we import the required libraries. We use Cirq for quantum circuit manipulation, NumPy for numerical operations, and custom utilities from qnlib for qutrit-specific operations."
   ]
  },
  {
   "cell_type": "code",
   "execution_count": 1,
   "metadata": {},
   "outputs": [],
   "source": [
    "import cirq\n",
    "import numpy as np\n",
    "import matplotlib.pyplot as plt\n",
    "from qnlib.gates.cliffords.utils import single_qutrit_cliffords\n",
    "from qnlib.utils.visualization import plot_gate_matrix"
   ]
  },
  {
   "cell_type": "markdown",
   "metadata": {},
   "source": [
    "## Creating a Qutrit\n",
    "We create a single qutrit using Cirq's LineQid class. The dimension parameter is set to 3 to represent a 3-level quantum system."
   ]
  },
  {
   "cell_type": "code",
   "execution_count": 2,
   "metadata": {},
   "outputs": [],
   "source": [
    "qutrit = cirq.LineQid(0, dimension=3)"
   ]
  },
  {
   "cell_type": "markdown",
   "metadata": {},
   "source": [
    "## Working with Clifford Gates\n",
    "We load the predefined set of single-qutrit Clifford gates. These gates form a complete set of operations for qutrit manipulation."
   ]
  },
  {
   "cell_type": "code",
   "execution_count": 3,
   "metadata": {},
   "outputs": [],
   "source": [
    "clifford_gates = single_qutrit_cliffords()"
   ]
  },
  {
   "cell_type": "markdown",
   "metadata": {},
   "source": [
    "## Building Simple Circuits\n",
    "Let's create a simple circuit using the first Clifford gate (X gate) to see how it acts on our qutrit."
   ]
  },
  {
   "cell_type": "code",
   "execution_count": 4,
   "metadata": {},
   "outputs": [
    {
     "name": "stdout",
     "output_type": "stream",
     "text": [
      "X gate:             ┌                    ┐\n",
      "            │0.+0.j 0.+0.j 1.+0.j│\n",
      "0 (d=3): ───│1.+0.j 0.+0.j 0.+0.j│───\n",
      "            │0.+0.j 1.+0.j 0.+0.j│\n",
      "            └                    ┘\n"
     ]
    }
   ],
   "source": [
    "circuit1 = cirq.Circuit()\n",
    "circuit1.append(clifford_gates.gates[1][0].on(qutrit))\n",
    "print(\"X gate:\", circuit1)"
   ]
  },
  {
   "cell_type": "markdown",
   "metadata": {},
   "source": [
    "## Visualizing Gate Matrices\n",
    "We can randomly select a Clifford gate and visualize its matrix representation. This helps understand how these gates transform qutrit states."
   ]
  },
  {
   "cell_type": "code",
   "execution_count": 5,
   "metadata": {},
   "outputs": [
    {
     "data": {
      "image/png": "[encoded data removed]",
      "text/plain": [
       "<Figure size 1000x400 with 4 Axes>"
      ]
     },
     "metadata": {},
     "output_type": "display_data"
    }
   ],
   "source": [
    "flattened_gates = [gate[0] for gate in clifford_gates.gates]\n",
    "random_gate = np.random.choice(flattened_gates)\n",
    "plot_gate_matrix(random_gate)\n",
    "plt.show()"
   ]
  },
  {
   "cell_type": "markdown",
   "metadata": {},
   "source": [
    "## Creating and Running Quantum Circuits\n",
    "Now let's create a more complex circuit with multiple random gates and perform measurements."
   ]
  },
  {
   "cell_type": "code",
   "execution_count": 6,
   "metadata": {},
   "outputs": [],
   "source": [
    "simulator = cirq.Simulator()\n",
    "test_circuit = cirq.Circuit()\n",
    "random_gates = np.random.choice(flattened_gates, size=3, replace=False)"
   ]
  },
  {
   "cell_type": "code",
   "execution_count": 7,
   "metadata": {},
   "outputs": [
    {
     "name": "stdout",
     "output_type": "stream",
     "text": [
      "\n",
      "Random circuit:             ┌                                      ┐   ┌                                         ┐   ┌                                         ┐\n",
      "            │0.1  -0.569j 0.1  -0.569j 0.442+0.371j│   │-0.543+0.197j  0.442+0.371j -0.543+0.197j│   │-0.543-0.197j  0.1  +0.569j -0.543-0.197j│\n",
      "0 (d=3): ───│0.1  -0.569j 0.442+0.371j 0.1  -0.569j│───│ 0.1  -0.569j  0.1  -0.569j -0.543+0.197j│───│ 0.442-0.371j  0.442-0.371j -0.543-0.197j│───M('x')───\n",
      "            │0.442+0.371j 0.1  -0.569j 0.1  -0.569j│   │ 0.442+0.371j -0.543+0.197j -0.543+0.197j│   │ 0.442-0.371j  0.1  +0.569j  0.1  +0.569j│\n",
      "            └                                      ┘   └                                         ┘   └                                         ┘\n"
     ]
    }
   ],
   "source": [
    "for gate in random_gates:\n",
    "    test_circuit.append(gate(qutrit))\n",
    "test_circuit.append(cirq.measure(qutrit, key=\"x\"))\n",
    "print(f'\\nRandom circuit: {test_circuit}')"
   ]
  },
  {
   "cell_type": "code",
   "execution_count": 8,
   "metadata": {},
   "outputs": [],
   "source": [
    "result = simulator.run(test_circuit, repetitions=10)"
   ]
  },
  {
   "cell_type": "markdown",
   "metadata": {},
   "source": [
    "## Measurement Results\n",
    "We run the circuit multiple times and analyze the measurement distribution across the three possible states (0, 1, 2)."
   ]
  },
  {
   "cell_type": "code",
   "execution_count": 9,
   "metadata": {},
   "outputs": [
    {
     "name": "stdout",
     "output_type": "stream",
     "text": [
      "\n",
      "Measurement distribution:\n",
      "State 0: 4\n",
      "State 1: 2\n",
      "State 2: 4\n"
     ]
    }
   ],
   "source": [
    "unique, counts = np.unique(result.measurements['x'], return_counts=True)\n",
    "print(\"\\nMeasurement distribution:\")\n",
    "for state, count in zip(unique, counts):\n",
    "    print(f\"State {state}: {count}\")"
   ]
  }
 ],
 "metadata": {
  "kernelspec": {
   "display_name": "Python 3",
   "language": "python",
   "name": "python3"
  },
  "language_info": {
   "codemirror_mode": {
    "name": "ipython",
    "version": 3
   },
   "file_extension": ".py",
   "mimetype": "text/x-python",
   "name": "python",
   "nbconvert_exporter": "python",
   "pygments_lexer": "ipython3",
   "version": "3.11.0"
  }
 },
 "nbformat": 4,
 "nbformat_minor": 2
}
