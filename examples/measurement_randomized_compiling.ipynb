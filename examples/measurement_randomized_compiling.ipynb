{
 "cells": [
  {
   "cell_type": "markdown",
   "id": "4b28db70",
   "metadata": {},
   "source": [
    "# Measurement Randomized Compiling"
   ]
  },
  {
   "cell_type": "code",
   "execution_count": null,
   "id": "db78ffa8",
   "metadata": {},
   "outputs": [],
   "source": [
    "from cirq import Circuit, LineQid, measure, Simulator\n",
    "from qdit.compiling import Compiler\n",
    "dim = 3\n",
    "\n",
    "measurement_circuit = Circuit()\n",
    "qutrit = LineQid(0, dimension = dim)\n",
    "measurement_circuit.append(measure(qutrit, key=\"x\"))\n",
    "print(measurement_circuit)"
   ]
  },
  {
   "cell_type": "code",
   "execution_count": null,
   "id": "04d787d8",
   "metadata": {},
   "outputs": [],
   "source": [
    "cycles = 100\n",
    "circuits = []\n",
    "for _ in range(cycles):\n",
    "    \n",
    "    compiler = Compiler(measurement_circuit, d=dim, mrc=True)\n",
    "    compiled_circuit, corrections = compiler.compile()\n",
    "    circuits.append((compiled_circuit, corrections))\n",
    "\n",
    "    if _==0 or _ == cycles - 1:\n",
    "        print(f\"Cycle {_}:\")\n",
    "        print(compiled_circuit)\n",
    "        \n",
    "print(\"First circuit bit-flip correction:\", circuits[0][1])"
   ]
  },
  {
   "cell_type": "markdown",
   "id": "cd2980c6",
   "metadata": {},
   "source": [
    "Apply classical corrections to the results:"
   ]
  },
  {
   "cell_type": "code",
   "execution_count": null,
   "id": "ee34e081",
   "metadata": {},
   "outputs": [],
   "source": [
    "# Run the circuit to get results\n",
    "simulator = Simulator()\n",
    "\n",
    "for compiled_circuit, correction in circuits:\n",
    "    results = simulator.run(compiled_circuit, repetitions=100)\n",
    "\n",
    "    # Now apply the corrections\n",
    "    for key, corrections in correction.items():\n",
    "        # Get the measurement data as a numpy array\n",
    "        data = results.measurements[key]\n",
    "        # Apply corrections\n",
    "        for qudit_idx, x_power in corrections:\n",
    "            data[:, qudit_idx] = (data[:, qudit_idx] - x_power) % dim"
   ]
  },
  {
   "cell_type": "code",
   "execution_count": null,
   "id": "a31bbf30",
   "metadata": {},
   "outputs": [],
   "source": [
    "import matplotlib.pyplot as plt\n",
    "import numpy as np\n",
    "\n",
    "# Get the measurement data for key \"x\"\n",
    "measurement_data = results.measurements['x']\n",
    "\n",
    "# Create histogram\n",
    "plt.figure(figsize=(8, 6))\n",
    "plt.hist(measurement_data, bins=np.arange(dim+1)-0.5, rwidth=0.8)\n",
    "plt.xticks(range(dim))\n",
    "plt.xlabel('Measurement Outcome')\n",
    "plt.ylabel('Counts')\n",
    "plt.title(f'Distribution of {len(measurement_data)} Measurements')\n",
    "plt.grid(True, alpha=0.3)\n",
    "plt.show()\n",
    "\n",
    "# Print statistics\n",
    "print(f\"Mean: {np.mean(measurement_data):.2f}\")\n",
    "print(f\"Distribution of outcomes:\")\n",
    "for i in range(dim):\n",
    "    count = np.sum(measurement_data == i)\n",
    "    percentage = count/len(measurement_data)*100\n",
    "    print(f\"  |{i}⟩: {count} times ({percentage:.1f}%)\")"
   ]
  }
 ],
 "metadata": {
  "kernelspec": {
   "display_name": "Python 3",
   "language": "python",
   "name": "python3"
  },
  "language_info": {
   "codemirror_mode": {
    "name": "ipython",
    "version": 3
   },
   "file_extension": ".py",
   "mimetype": "text/x-python",
   "name": "python",
   "nbconvert_exporter": "python",
   "pygments_lexer": "ipython3",
   "version": "3.10.5"
  }
 },
 "nbformat": 4,
 "nbformat_minor": 5
}
