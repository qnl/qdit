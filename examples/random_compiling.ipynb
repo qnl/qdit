{
 "cells": [
  {
   "cell_type": "markdown",
   "metadata": {},
   "source": [
    "# Random Compiling\n",
    "Qdit currently supports multi qudit random compiling which twirls single qubit gates to convert noise channels to Pauli depolarizing noise.\n",
    "\n",
    "See \"Noise tailoring for scalable quantum computation via randomized compiling\" by Wallman and Emerson (2016).\n",
    "\n",
    "Consider an arbitrary circuit, say, a random 3-qutrit Clifford:"
   ]
  },
  {
   "cell_type": "markdown",
   "metadata": {},
   "source": [
    "We twirl the single qubit gates with random Paulis such that the overall logic is the same but the noise is transformed to Pauli noise:"
   ]
  },
  {
   "cell_type": "code",
   "execution_count": null,
   "metadata": {},
   "outputs": [],
   "source": [
    "from qdit.compiling import compile_circuit\n",
    "from qdit.benchmarking import sample_clifford # see the Clifford generation demo for more information of sample_clifford\n",
    "from cirq import measure, LineQid\n",
    "\n",
    "n_qudits = 2\n",
    "dimension = 2\n",
    "\n",
    "circuit = sample_clifford(n_qudits, dimension)\n",
    "circuit.append(measure(LineQid(0, dimension=dimension), key=\"x\"))\n",
    "circuit.append(measure(LineQid(1, dimension=dimension), key=\"x\"))\n",
    "\n",
    "print(circuit)"
   ]
  },
  {
   "cell_type": "code",
   "execution_count": null,
   "metadata": {},
   "outputs": [],
   "source": [
    "compiled = compile_circuit(circuit, d=dimension, rc=True)\n",
    "print(compiled)"
   ]
  },
  {
   "cell_type": "code",
   "execution_count": null,
   "metadata": {},
   "outputs": [],
   "source": [
    "compiled = compile_circuit(circuit, d=dimension, rc=True, mrc=False, native=True, native_gates='RzRyCZ')\n",
    "print(compiled)"
   ]
  }
 ],
 "metadata": {
  "kernelspec": {
   "display_name": "Python 3",
   "language": "python",
   "name": "python3"
  },
  "language_info": {
   "codemirror_mode": {
    "name": "ipython",
    "version": 3
   },
   "file_extension": ".py",
   "mimetype": "text/x-python",
   "name": "python",
   "nbconvert_exporter": "python",
   "pygments_lexer": "ipython3",
   "version": "3.10.5"
  }
 },
 "nbformat": 4,
 "nbformat_minor": 2
}
