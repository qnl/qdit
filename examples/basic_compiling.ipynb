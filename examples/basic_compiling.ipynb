{
 "cells": [
  {
   "cell_type": "markdown",
   "id": "2ea05c45",
   "metadata": {},
   "source": [
    "# Compiling\n",
    "\n",
    "Consider compiling a random n-qudit Clifford."
   ]
  },
  {
   "cell_type": "code",
   "execution_count": null,
   "id": "76d6e602",
   "metadata": {},
   "outputs": [
    {
     "name": "stdout",
     "output_type": "stream",
     "text": [
      "0 (d=2): ───────CXc───F───S───CXc───F───Z───M('x')────────────────────\n",
      "                │             │\n",
      "1 (d=2): ───────CXt───S───────CXt───S───F───S────────F───Z───M('x')───\n"
     ]
    }
   ],
   "source": [
    "from qdit.compiling import compile_circuit\n",
    "from qdit.benchmarking import sample_clifford\n",
    "from cirq import measure, LineQid\n",
    "\n",
    "n_qudits = 2\n",
    "dimension = 2\n",
    "\n",
    "circuit = sample_clifford(n_qudits, dimension)\n",
    "circuit.append(measure(LineQid(0, dimension=dimension), key=\"x\"))\n",
    "circuit.append(measure(LineQid(1, dimension=dimension), key=\"x\"))\n",
    "\n",
    "print(circuit)"
   ]
  },
  {
   "cell_type": "markdown",
   "id": "31589e3e",
   "metadata": {},
   "source": [
    "### Random Compiling\n",
    "Qdit currently supports multi qudit random compiling which twirls single qubit gates to convert noise channels to Pauli depolarizing noise.\n",
    "\n",
    "See \"Noise tailoring for scalable quantum computation via randomized compiling\" by Wallman and Emerson (2016).\n",
    "\n",
    "The compiler class accessed by this compile_circuit function takes the parameter 'rc':"
   ]
  },
  {
   "cell_type": "code",
   "execution_count": 8,
   "id": "af4a6928",
   "metadata": {},
   "outputs": [
    {
     "name": "stdout",
     "output_type": "stream",
     "text": [
      "0 (d=2): ───────I────CXc───Z1───F───S───Z1───────CXc───I────────F───Z───M('x')────────────────────\n",
      "                     │                           │\n",
      "1 (d=2): ───────Z1───CXt───Z1───S───────W(1,1)───CXt───W(1,1)───S───F───S────────F───Z───M('x')───\n"
     ]
    }
   ],
   "source": [
    "compiled = compile_circuit(circuit, d=dimension, rc=True)\n",
    "print(compiled)"
   ]
  },
  {
   "cell_type": "markdown",
   "id": "1221d306",
   "metadata": {},
   "source": [
    "### Measurement RC\n",
    "\n",
    "Qdit also supports measurement randomized compiling, either alone..."
   ]
  },
  {
   "cell_type": "code",
   "execution_count": 9,
   "id": "dfe0c9a7",
   "metadata": {},
   "outputs": [
    {
     "name": "stdout",
     "output_type": "stream",
     "text": [
      "0 (d=2): ───────CXc───F───S───CXc───F───Z───────W(1,1)───M('x')────────────────\n",
      "                │             │\n",
      "1 (d=2): ───────CXt───S───────CXt───S───F───S───F────────Z────────I───M('x')───\n",
      "{'x': [(0, 1)]}\n"
     ]
    }
   ],
   "source": [
    "compiled_mrc, measurement_corrections = compile_circuit(circuit, d=dimension, rc=False, mrc=True)\n",
    "print(compiled_mrc)\n",
    "print(measurement_corrections)"
   ]
  },
  {
   "cell_type": "markdown",
   "id": "98854df5",
   "metadata": {},
   "source": [
    "... or together with RC:"
   ]
  },
  {
   "cell_type": "code",
   "execution_count": 10,
   "id": "a65d8599",
   "metadata": {},
   "outputs": [
    {
     "name": "stdout",
     "output_type": "stream",
     "text": [
      "0 (d=2): ───────Z1───CXc───Z1───F───S───Z1───────CXc───I────────F───Z───W(1,1)───────W(1,1)───M('x')────────────────\n",
      "                     │                           │\n",
      "1 (d=2): ───────I────CXt───I────S───────W(1,1)───CXt───W(1,1)───S───F───S────────F───Z────────I────────I───M('x')───\n",
      "{'x': [(0, 1)]}\n"
     ]
    }
   ],
   "source": [
    "compiled_rc_mrc, measurement_corrections = compile_circuit(compiled_mrc, d=dimension, rc=True, mrc=True)\n",
    "print(compiled_rc_mrc)\n",
    "print(measurement_corrections)"
   ]
  },
  {
   "cell_type": "markdown",
   "id": "eb6cf78c",
   "metadata": {},
   "source": [
    "### Native Gate Decomposition\n",
    "\n",
    "Most importantly, Qdit's compiler handles decomposition of single qudit gates into native gates. Currently it only supports the following native gate sets:\n",
    "\n",
    "* Rz \n",
    "* X90 *or* Ry\n",
    "* CX, CZ (for any prime d), *or* iSWAP (for d=2 only)"
   ]
  },
  {
   "cell_type": "code",
   "execution_count": null,
   "id": "43146e88",
   "metadata": {},
   "outputs": [
    {
     "name": "stdout",
     "output_type": "stream",
     "text": [
      "Circuit with Rz, Ry, and CZ\n",
      "0 (d=2): ────────────────────────────CZc───Rz(1.00π)────Ry(0.50π)───Rz(-0.50π)───CZc───Rz(1.00π)────Ry(0.50π)───Rz(-1.00π)───M('')───\n",
      "                                     │                                           │\n",
      "1 (d=2): ───Rz(-1.00π)───Ry(0.50π)───CZt───Rz(-0.50π)───Ry(0.50π)───Rz(0.50π)────CZt───Rz(-0.50π)───M('')────────────────────────────\n",
      "\n",
      "Circuit with X90, and iSWAP instead of Ry and CZ\n",
      "0 (d=2): ───Rz(0.50π)────────────────────────────────────────────────────⨂───Rz(-0.50π)───X90───X90───X90───Rz(0.50π)───X90───Rz(2.00π)───Rz(0.50π)───⨂───Rz(-1.00π)───X90───X90───X90───Rz(0.50π)───X90───Rz(2.00π)───⨂───Rz(-0.50π)───X90───X90───X90───Rz(0.50π)───X90───Rz(2.00π)───Rz(0.50π)───⨂───Rz(1.00π)───X90───X90───X90───Rz(0.50π)───X90───Rz(2.00π)───Rz(-1.00π)───────────M('')───\n",
      "                                                                         │                                                                            │                                                                │                                                                            │\n",
      "1 (d=2): ───Rz(-0.50π)───X90───X90───X90───Rz(0.50π)───X90───Rz(2.00π)───⨂────────────────────────────────────────────────────────────────────────────⨂───Rz(0.50π)────X90───X90───X90───Rz(0.50π)───X90───Rz(2.00π)───⨂────────────────────────────────────────────────────────────────────────────⨂───Rz(0.50π)───X90───X90───X90───Rz(0.50π)───X90───Rz(2.00π)───Rz(-0.50π)───M('')───────────\n",
      "True\n"
     ]
    }
   ],
   "source": [
    "from cirq import unitary\n",
    "from qdit.utils.math import unitary_equiv\n",
    "u1 = unitary(circuit)\n",
    "print(\"Circuit with Rz, Ry, and CZ\")\n",
    "compiled = compile_circuit(circuit, d=dimension, native=True, native_gates='RzRyCZ')\n",
    "print(compiled)\n",
    "u2 = unitary(compiled)\n",
    "\n",
    "print(\"\\nCircuit with X90, and iSWAP instead of Ry and CZ\")\n",
    "compiled = compile_circuit(circuit, d=dimension, native=True, native_gates='RzRxiSWAP')\n",
    "print(compiled)\n",
    "u3 = unitary(compiled)\n",
    "\n",
    "print(unitary_equiv(u1,u2))"
   ]
  },
  {
   "cell_type": "code",
   "execution_count": null,
   "id": "e79b4525",
   "metadata": {},
   "outputs": [
    {
     "name": "stdout",
     "output_type": "stream",
     "text": [
      "0 (d=3): ───Sdg───F───Sdg───\n",
      "[[ 1.+0.j -0.+0.j -0.+0.j]\n",
      " [-0.+0.j  1.+0.j -0.+1.j]\n",
      " [-0.+0.j -0.+1.j  1.-0.j]]\n",
      "0 (d=3): ───X9023───Rz(1.50π)23───X9023───Rz(2.00π)23───Rz(0.22π)23───Rz(0.94π)12───X9012───Rz(1.61π)12───X9012───Rz(2.00π)12───Rz(-0.06π)12───Rz(2.22π)23───X9023───Rz(1.50π)23───X9023───Rz(2.00π)23───\n",
      "[[ 0.569-0.1j   -0.197+0.543j -0.197+0.543j]\n",
      " [-0.197+0.543j  0.569-0.1j   -0.197+0.543j]\n",
      " [-0.197+0.543j -0.197+0.543j  0.569-0.1j  ]]\n",
      "True\n"
     ]
    }
   ],
   "source": [
    "from cirq import Circuit, LineQid\n",
    "# from qdit.gates import X90, Ry, Rz, CX, iSWAP, F, Sdg\n",
    "# from qdit.compiling import compile_circuit\n",
    "from qdit import X90, Ry, Rz, CX, iSWAP, F, Sdg, compile_circuit, unitary_equiv\n",
    "import numpy as np\n",
    "d=3\n",
    "c = Circuit()\n",
    "q0 = LineQid(0,d)\n",
    "q1 = LineQid(1,d)\n",
    "# Sdg(d)(control), H(d)(control), Sdg(d)(control)\n",
    "c.append(Sdg(d)(q0))\n",
    "c.append(F(d)(q0))\n",
    "c.append(Sdg(d)(q0))\n",
    "# c.append(X90()(q0))\n",
    "\n",
    "# c.append(Rz(np.pi/2)(q0))\n",
    "\n",
    "# c.append(Rz(np.pi/2)(q1))\n",
    "# c.append(X90()(q1))\n",
    "# c.append(Rz(3*np.pi/2)(q1))\n",
    "\n",
    "# c.append(X90()(q1))\n",
    "\n",
    "# c.append(iSWAP()(q0,q1))\n",
    "\n",
    "# c.append(X90()(q0))\n",
    "\n",
    "# c.append(iSWAP()(q0,q1))\n",
    "\n",
    "# c.append(Rz(-np.pi/2)(q1))\n",
    "\n",
    "print(c)\n",
    "print(np.round(c.unitary()))\n",
    "\n",
    "comp_c = compile_circuit(c, d, native=True, native_gates='RzRxiSWAP')\n",
    "print(comp_c)\n",
    "print(np.round(comp_c.unitary(),3))\n",
    "\n",
    "print(unitary_equiv(c.unitary(), comp_c.unitary()))\n",
    "# c = Circuit()\n",
    "# c.append(CX(dimension=d)(q0,q1))\n",
    "# comp_c = compile_circuit(c, d, native=True, native_gates='RzRxiSWAP')\n",
    "# print(comp_c)\n",
    "# print(c.unitary())"
   ]
  }
 ],
 "metadata": {
  "kernelspec": {
   "display_name": "Python 3",
   "language": "python",
   "name": "python3"
  },
  "language_info": {
   "codemirror_mode": {
    "name": "ipython",
    "version": 3
   },
   "file_extension": ".py",
   "mimetype": "text/x-python",
   "name": "python",
   "nbconvert_exporter": "python",
   "pygments_lexer": "ipython3",
   "version": "3.10.5"
  }
 },
 "nbformat": 4,
 "nbformat_minor": 5
}
