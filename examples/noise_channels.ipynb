{
 "cells": [
  {
   "cell_type": "markdown",
   "id": "6171f6c7",
   "metadata": {},
   "source": [
    "# Qutrit Noise Channel Demo\n",
    "This notebook demonstrates the effects of different noise channels on a qutrit.\n",
    "\n",
    "## Setup and Imports"
   ]
  },
  {
   "cell_type": "code",
   "execution_count": null,
   "id": "c0e96960",
   "metadata": {},
   "outputs": [],
   "source": [
    "import numpy as np\n",
    "import matplotlib.pyplot as plt\n",
    "from qdit.noise import TritFlip, AmplitudeDamping, Depolarizing\n",
    "\n",
    "def get_density_matrix(state):\n",
    "    \"\"\"Convert state vector to density matrix.\"\"\"\n",
    "    return np.outer(state, state.conj())\n",
    "\n",
    "def apply_channel(rho, kraus_ops):\n",
    "    \"\"\"Apply noise channel using Kraus operators.\"\"\"\n",
    "    result = np.zeros_like(rho, dtype=complex)\n",
    "    for K in kraus_ops:\n",
    "        result += K @ rho @ K.conj().T\n",
    "    return result\n",
    "\n",
    "def plot_density_matrix(rho, ax, title):\n",
    "    \"\"\"Plot density matrix as a heatmap.\"\"\"\n",
    "    im = ax.imshow(np.real(rho), cmap='RdBu', vmin=-1, vmax=1)\n",
    "    ax.set_title(title)\n",
    "    for i in range(3):\n",
    "        for j in range(3):\n",
    "            ax.text(j, i, f'{rho[i,j]:.2f}', ha='center', va='center')\n",
    "    return im"
   ]
  },
  {
   "cell_type": "markdown",
   "id": "f5acea87",
   "metadata": {},
   "source": [
    "## Initial State Preparation\n",
    "We prepare a qutrit in the first excited state and create its density matrix representation.\n",
    "The following noise channels are initialized:\n",
    "\n",
    "1. **Trit Flip**: Similar to bit flip, but for 3-level systems\n",
    "   - p_01: probability of 0, 1 flip (0.15)\n",
    "   - p_02: probability of 0, 2 flip (0.05) \n",
    "   - p_12: probability of 1, 2 flip (0.10)\n",
    "\n",
    "2. **Amplitude Damping**: Models energy decay between levels\n",
    "   - gamma_10: decay rate from |1⟩ to |0⟩ (0.3)\n",
    "   - gamma_20: decay rate from |2⟩ to |0⟩ (0.1)\n",
    "   - gamma_21: decay rate from |2⟩ to |1⟩ (0.1)\n",
    "\n",
    "3. **Depolarizing**: Uniformly mixes the state\n",
    "   - p: depolarizing probability (0.5)"
   ]
  },
  {
   "cell_type": "code",
   "execution_count": null,
   "id": "c9d327a0",
   "metadata": {},
   "outputs": [],
   "source": [
    "# Initial state\n",
    "psi = np.array([0, 1, 0])\n",
    "rho = get_density_matrix(psi)\n",
    "\n",
    "# Create noise channels\n",
    "trit_flip = TritFlip(p_01=0.15, p_02=0.05, p_12=0.1)\n",
    "amp_damp = AmplitudeDamping(gamma_10=0.3, gamma_20=0.1, gamma_21=0.1)\n",
    "depol = Depolarizing(p=0.5)"
   ]
  },
  {
   "cell_type": "markdown",
   "id": "d3ce60c3",
   "metadata": {},
   "source": [
    "## Visualization\n",
    "The density matrices are visualized as heatmaps:\n",
    "- Red indicates positive values\n",
    "- Blue indicates negative values\n",
    "- The intensity represents the magnitude\n",
    "- Diagonal elements show population probabilities\n",
    "- Off-diagonal elements show quantum coherences"
   ]
  },
  {
   "cell_type": "code",
   "execution_count": null,
   "id": "ef9eccbf",
   "metadata": {},
   "outputs": [],
   "source": [
    "fig, axes = plt.subplots(1, 4, figsize=(16, 4))\n",
    "\n",
    "# Plot initial state\n",
    "im = plot_density_matrix(rho, axes[0], 'Initial State |1⟩')\n",
    "\n",
    "rho_tf = apply_channel(rho, trit_flip._kraus_())\n",
    "plot_density_matrix(rho_tf, axes[1], 'After Trit Flip')\n",
    "\n",
    "rho_ad = apply_channel(rho, amp_damp._kraus_())\n",
    "plot_density_matrix(rho_ad, axes[2], 'After Amplitude Damping')\n",
    "\n",
    "rho_dp = apply_channel(rho, depol._kraus_())\n",
    "plot_density_matrix(rho_dp, axes[3], 'After Depolarizing')\n",
    "\n",
    "cbar = fig.colorbar(im, ax=axes.ravel().tolist(), shrink=0.8)\n",
    "\n",
    "plt.subplots_adjust(\n",
    "    left=0.05,  \n",
    "    right=0.75, \n",
    "    bottom=0.15, \n",
    "    top=0.9,    \n",
    "    wspace=0.3  \n",
    ")\n",
    "\n",
    "plt.show()"
   ]
  },
  {
   "cell_type": "markdown",
   "id": "e6e54854",
   "metadata": {},
   "source": [
    "## Population Analysis\n",
    "The diagonal elements of each density matrix show the probability distribution across the three levels |0⟩, |1⟩, and |2⟩.\n",
    "- Initial state is pure |1⟩\n",
    "- Trit Flip redistributes population between levels\n",
    "- Amplitude Damping shows decay to lower energy states\n",
    "- Depolarizing tends toward equal populations"
   ]
  },
  {
   "cell_type": "code",
   "execution_count": null,
   "id": "e787a492",
   "metadata": {},
   "outputs": [],
   "source": [
    "# Print state probabilities\n",
    "def print_probabilities(rho, name):\n",
    "    probs = np.real(np.diag(rho))\n",
    "    print(f\"\\n{name} probabilities:\")\n",
    "    for i, p in enumerate(probs):\n",
    "        print(f\"|{i}⟩: {p:.3f}\")\n",
    "\n",
    "print_probabilities(rho, \"Initial\")\n",
    "print_probabilities(rho_tf, \"Trit Flip\")\n",
    "print_probabilities(rho_ad, \"Amplitude Damping\")\n",
    "print_probabilities(rho_dp, \"Depolarizing\")"
   ]
  }
 ],
 "metadata": {
  "kernelspec": {
   "display_name": "Python 3",
   "language": "python",
   "name": "python3"
  },
  "language_info": {
   "codemirror_mode": {
    "name": "ipython",
    "version": 3
   },
   "file_extension": ".py",
   "mimetype": "text/x-python",
   "name": "python",
   "nbconvert_exporter": "python",
   "pygments_lexer": "ipython3",
   "version": "3.10.5"
  }
 },
 "nbformat": 4,
 "nbformat_minor": 5
}
